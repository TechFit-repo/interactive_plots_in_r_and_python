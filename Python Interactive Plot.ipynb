{
 "cells": [
  {
   "cell_type": "markdown",
   "metadata": {},
   "source": [
    "## Python Interactive Plot"
   ]
  },
  {
   "cell_type": "code",
   "execution_count": 158,
   "metadata": {},
   "outputs": [],
   "source": [
    "import datetime\n",
    "import pandas as pd\n",
    "import ipywidgets as widgets\n",
    "import plotly.graph_objects as go\n",
    "from IPython.display import display\n",
    "from IPython.display import HTML"
   ]
  },
  {
   "cell_type": "code",
   "execution_count": 159,
   "metadata": {},
   "outputs": [],
   "source": [
    "file_path = '/Users/greengodfitness/Desktop/TechFit/interactive_plots_in_r_and_python/widget_data.csv'\n",
    "df = pd.read_csv(file_path)\n",
    "df['date'] = pd.to_datetime(df['date'],format='%d/%m/%Y %H:%M')"
   ]
  },
  {
   "cell_type": "markdown",
   "metadata": {},
   "source": [
    "#### Date Greater then: "
   ]
  },
  {
   "cell_type": "code",
   "execution_count": 156,
   "metadata": {},
   "outputs": [
    {
     "data": {
      "application/vnd.jupyter.widget-view+json": {
       "model_id": "5f7e01394cf443cbb75656c1de3eac5a",
       "version_major": 2,
       "version_minor": 0
      },
      "text/plain": [
       "DatePicker(value=datetime.date(2016, 1, 1))"
      ]
     },
     "metadata": {},
     "output_type": "display_data"
    }
   ],
   "source": [
    "output = widgets.Output()\n",
    "\n",
    "# Date picker\n",
    "dp = widgets.DatePicker(value = datetime.date(2016,1,1))\n",
    "\n",
    "# Plot function\n",
    "def temp_plot(date_selected):\n",
    "    output.clear_output()\n",
    "    # Data\n",
    "    subset = df[df['date'] > pd.to_datetime(date_selected,format='%Y-%m-%d %H:%M')]\n",
    "    x=subset['demand']\n",
    "    y=subset['temp']\n",
    "\n",
    "    # Layout\n",
    "    layout = go.Layout(\n",
    "        title=\"Demand Based on Temperature\",\n",
    "        xaxis=dict(\n",
    "            title=\"Electricity Demand (MW)\"\n",
    "        ),\n",
    "        yaxis=dict(\n",
    "            title=\"Temperature (Celcius)\"\n",
    "        ) \n",
    "    )\n",
    "\n",
    "    fig = go.Figure(layout = layout)\n",
    "\n",
    "    # Add scatter trace with medium sized markers\n",
    "    fig.add_trace(\n",
    "        go.Scatter(\n",
    "            mode='markers',\n",
    "            x=x,\n",
    "            y=y,\n",
    "            marker=dict(\n",
    "                color='darkturquoise',\n",
    "                size=6,\n",
    "                opacity=0.4,\n",
    "                line=dict(\n",
    "                    color='burlywood',\n",
    "                    width=1\n",
    "                )\n",
    "            ),\n",
    "            showlegend=False\n",
    "        )\n",
    "    )\n",
    "    with output:\n",
    "        display(fig.show())  \n",
    "\n",
    "# Event handler\n",
    "def date_eventhandler(value):\n",
    "    temp_plot(value.new)\n",
    "\n",
    "# Binding event handler with date picker     \n",
    "dp.observe(date_eventhandler, names='value')\n",
    "\n",
    "display(dp)"
   ]
  },
  {
   "cell_type": "code",
   "execution_count": 157,
   "metadata": {},
   "outputs": [
    {
     "data": {
      "application/vnd.jupyter.widget-view+json": {
       "model_id": "5da748c7225d437e814caec6827ffd4f",
       "version_major": 2,
       "version_minor": 0
      },
      "text/plain": [
       "Output()"
      ]
     },
     "metadata": {},
     "output_type": "display_data"
    }
   ],
   "source": [
    "display(output)"
   ]
  },
  {
   "cell_type": "code",
   "execution_count": 45,
   "metadata": {},
   "outputs": [
    {
     "data": {
      "text/html": [
       "<script>\n",
       "code_show=true; \n",
       "function code_toggle() {\n",
       " if (code_show){\n",
       " $('div.input').hide();\n",
       " } else {\n",
       " $('div.input').show();\n",
       " }\n",
       " code_show = !code_show\n",
       "} \n",
       "$( document ).ready(code_toggle);\n",
       "</script>\n",
       "<form action=\"javascript:code_toggle()\"><input type=\"submit\" value=\"Click here to toggle on/off the code\"></form>"
      ],
      "text/plain": [
       "<IPython.core.display.HTML object>"
      ]
     },
     "execution_count": 45,
     "metadata": {},
     "output_type": "execute_result"
    }
   ],
   "source": [
    "HTML('''<script>\n",
    "code_show=true; \n",
    "function code_toggle() {\n",
    " if (code_show){\n",
    " $('div.input').hide();\n",
    " } else {\n",
    " $('div.input').show();\n",
    " }\n",
    " code_show = !code_show\n",
    "} \n",
    "$( document ).ready(code_toggle);\n",
    "</script>\n",
    "<form action=\"javascript:code_toggle()\"><input type=\"submit\" value=\"Click here to toggle on/off the code\"></form>''')"
   ]
  }
 ],
 "metadata": {
  "kernelspec": {
   "display_name": "Python 3",
   "language": "python",
   "name": "python3"
  },
  "language_info": {
   "codemirror_mode": {
    "name": "ipython",
    "version": 3
   },
   "file_extension": ".py",
   "mimetype": "text/x-python",
   "name": "python",
   "nbconvert_exporter": "python",
   "pygments_lexer": "ipython3",
   "version": "3.7.6"
  }
 },
 "nbformat": 4,
 "nbformat_minor": 4
}
